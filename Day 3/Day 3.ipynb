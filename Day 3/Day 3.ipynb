{
 "cells": [
  {
   "cell_type": "code",
   "execution_count": 14,
   "metadata": {},
   "outputs": [
    {
     "data": {
      "text/plain": [
       "262"
      ]
     },
     "execution_count": 14,
     "metadata": {},
     "output_type": "execute_result"
    }
   ],
   "source": [
    "sum([line[(cnt*3)%(len(line)-1)] == \"#\" for cnt,line in enumerate(open(\"input.txt\"))])"
   ]
  },
  {
   "cell_type": "code",
   "execution_count": 22,
   "metadata": {},
   "outputs": [
    {
     "data": {
      "text/plain": [
       "2698900776"
      ]
     },
     "execution_count": 22,
     "metadata": {},
     "output_type": "execute_result"
    }
   ],
   "source": [
    "sum([line[(cnt*1)%(len(line)-1)] == \"#\" for cnt,line in enumerate(open(\"input.txt\"))])* \\\n",
    "sum([line[(cnt*3)%(len(line)-1)] == \"#\" for cnt,line in enumerate(open(\"input.txt\"))])* \\\n",
    "sum([line[(cnt*5)%(len(line)-1)] == \"#\" for cnt,line in enumerate(open(\"input.txt\"))])* \\\n",
    "sum([line[(cnt*7)%(len(line)-1)] == \"#\" for cnt,line in enumerate(open(\"input.txt\"))])* \\\n",
    "sum([line[(cnt*1)%(len(line)-1)] == \"#\" for cnt,line in list(enumerate(open(\"input.txt\")))[::2]])"
   ]
  },
  {
   "cell_type": "code",
   "execution_count": 6,
   "metadata": {},
   "outputs": [
    {
     "data": {
      "text/plain": [
       "2698900776"
      ]
     },
     "execution_count": 6,
     "metadata": {},
     "output_type": "execute_result"
    }
   ],
   "source": [
    "#alternate mapreduce; same result as above, same steps executed, but a prettier/rolled-up approach\n",
    "#you could use starmap with a list of tuples and that's probably better code than this, as well.\n",
    "from functools import reduce\n",
    "\n",
    "reduce(lambda a,b: a*b, map(lambda a,b: sum([line[(cnt*a)%(len(line)-1)] == \"#\" for cnt,line in list(enumerate(open(\"input.txt\")))[::b]]), [1,3,5,7,1],[1,1,1,1,2]))"
   ]
  },
  {
   "cell_type": "code",
   "execution_count": null,
   "metadata": {},
   "outputs": [],
   "source": []
  }
 ],
 "metadata": {
  "kernelspec": {
   "display_name": "Python 3",
   "language": "python",
   "name": "python3"
  },
  "language_info": {
   "codemirror_mode": {
    "name": "ipython",
    "version": 3
   },
   "file_extension": ".py",
   "mimetype": "text/x-python",
   "name": "python",
   "nbconvert_exporter": "python",
   "pygments_lexer": "ipython3",
   "version": "3.8.5"
  }
 },
 "nbformat": 4,
 "nbformat_minor": 4
}
