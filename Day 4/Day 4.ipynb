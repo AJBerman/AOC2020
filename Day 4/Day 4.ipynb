{
 "cells": [
  {
   "cell_type": "code",
   "execution_count": 50,
   "metadata": {},
   "outputs": [
    {
     "data": {
      "text/plain": [
       "210"
      ]
     },
     "execution_count": 50,
     "metadata": {},
     "output_type": "execute_result"
    }
   ],
   "source": [
    "sum([all(field in passport for field in [\"byr\",\"iyr\",\"eyr\",\"hgt\",\"hcl\",\"ecl\",\"pid\"]) for passport in map(lambda p: list(map(lambda f: f[:3],p.replace(\"\\n\",\" \").split(\" \"))),open(\"input.txt\").read().split(\"\\n\\n\"))])"
   ]
  },
  {
   "cell_type": "code",
   "execution_count": 103,
   "metadata": {},
   "outputs": [
    {
     "data": {
      "text/plain": [
       "131"
      ]
     },
     "execution_count": 103,
     "metadata": {},
     "output_type": "execute_result"
    }
   ],
   "source": [
    "import re\n",
    "\n",
    "sum([all([sum([ppfield[:3] == field and rule(ppfield[4:]) for ppfield in passport]) >= 1 for field,rule in [(\"byr\",lambda y: None != re.match(r\"^(19[2-9][0-9]|200[0-2])$\",y)),(\"iyr\",lambda y: None != re.match(r\"^20(1[0-9]|20)$\",y)),(\"eyr\",lambda y: None != re.match(r\"^20(2[0-9]|30)$\",y)),(\"hgt\", lambda h: None != re.match(r\"^(1([5-8][0-9]|9[0-3])cm|(59|6[0-9]|7[0-6])in)$\",h)),(\"hcl\",lambda col: None != re.match(r\"^#[0-9a-f]{6}$\",col)),(\"ecl\", lambda col: None != re.match(r\"^(amb|blu|brn|gry|grn|hzl|oth)$\",col)),(\"pid\",lambda n: None != re.match(r\"^[0-9]{9}$\",n))]]) for passport in map(lambda p: list(p.replace(\"\\n\",\" \").split(\" \")),open(\"input.txt\").read().split(\"\\n\\n\"))])"
   ]
  }
 ],
 "metadata": {
  "kernelspec": {
   "display_name": "Python 3",
   "language": "python",
   "name": "python3"
  },
  "language_info": {
   "codemirror_mode": {
    "name": "ipython",
    "version": 3
   },
   "file_extension": ".py",
   "mimetype": "text/x-python",
   "name": "python",
   "nbconvert_exporter": "python",
   "pygments_lexer": "ipython3",
   "version": "3.8.5"
  }
 },
 "nbformat": 4,
 "nbformat_minor": 4
}
