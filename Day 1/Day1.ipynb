{
 "cells": [
  {
   "cell_type": "code",
   "execution_count": 15,
   "metadata": {},
   "outputs": [
    {
     "name": "stdout",
     "output_type": "stream",
     "text": [
      "1016964\n"
     ]
    }
   ],
   "source": [
    "import numpy as np\n",
    "l = open(\"./input.txt\",\"r\")\n",
    "L = [int(item) for item in l]\n",
    "for (cnt,a) in enumerate(L):\n",
    "    for b in L[cnt:]:\n",
    "        if(a+b==2020):\n",
    "            print(a*b)\n",
    "            break"
   ]
  },
  {
   "cell_type": "code",
   "execution_count": 19,
   "metadata": {},
   "outputs": [],
   "source": [
    "M = [[(a,b,a+b) for b in L[cnt:]] for (cnt,a) in enumerate(L)]"
   ]
  },
  {
   "cell_type": "code",
   "execution_count": 25,
   "metadata": {},
   "outputs": [],
   "source": [
    "M = [[[(a,b,c,a+b+c) for c in L[cnt2:]] for (cnt2,b) in enumerate(L[cnt:])] for (cnt,a) in enumerate(L)]"
   ]
  },
  {
   "cell_type": "code",
   "execution_count": 28,
   "metadata": {},
   "outputs": [
    {
     "name": "stdout",
     "output_type": "stream",
     "text": [
      "182588480\n",
      "182588480\n",
      "182588480\n"
     ]
    }
   ],
   "source": [
    "for i in M:\n",
    "    for j in i:\n",
    "        for k in j:\n",
    "            if k[3]==2020:\n",
    "                print(k[0]*k[1]*k[2])"
   ]
  },
  {
   "cell_type": "code",
   "execution_count": null,
   "metadata": {},
   "outputs": [],
   "source": []
  }
 ],
 "metadata": {
  "kernelspec": {
   "display_name": "Python 3",
   "language": "python",
   "name": "python3"
  },
  "language_info": {
   "codemirror_mode": {
    "name": "ipython",
    "version": 3
   },
   "file_extension": ".py",
   "mimetype": "text/x-python",
   "name": "python",
   "nbconvert_exporter": "python",
   "pygments_lexer": "ipython3",
   "version": "3.8.5"
  }
 },
 "nbformat": 4,
 "nbformat_minor": 4
}
